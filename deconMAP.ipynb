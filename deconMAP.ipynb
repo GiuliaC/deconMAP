{
 "cells": [
  {
   "cell_type": "code",
   "execution_count": 1,
   "metadata": {},
   "outputs": [],
   "source": [
    "def generateMap():\n",
    "    from ipyleaflet import Map, basemaps, basemap_to_tiles, Heatmap, Circle\n",
    "    from ipywidgets import AppLayout\n",
    "    from ipywidgets import HTML, Layout, Dropdown, Output, Textarea, VBox, Label\n",
    "    import bqplot as bq\n",
    "    import numpy as np\n",
    "    from pandas import date_range\n",
    "    from datetime import datetime\n",
    "    import random\n",
    "\n",
    "    m = Map(center=(47, 3), zoom=5, basemap=basemaps.OpenStreetMap.Mapnik)\n",
    "\n",
    "\n",
    "    maps = {'Standard' : basemaps.OpenStreetMap.Mapnik,\n",
    "            'Esri' : basemaps.Esri.DeLorme}\n",
    "\n",
    "\n",
    "    header = HTML(\"<h1>Fictional World Weather</h1>\", layout=Layout(height='auto'))\n",
    "    header.style.text_align='center'\n",
    "    basemap_selector = Dropdown( options = list(maps.keys()),\n",
    "                                layout=Layout(width='auto'))\n",
    "\n",
    "\n",
    "    basemap_selector.value = 'Standard'\n",
    "\n",
    "\n",
    "    out = HTML(\n",
    "        value='',\n",
    "        layout=Layout(width='auto', height='auto')\n",
    "    )\n",
    "\n",
    "\n",
    "    rows = []\n",
    "\n",
    "    def add_log(msg):\n",
    "        max_rows = 10\n",
    "        rows.append(msg)\n",
    "        if len(rows) > max_rows:\n",
    "            rows.pop(0)\n",
    "        return '<h4>Activity log</h4><ul>{}</ul>'.format('<li>'.join([''] + rows))\n",
    "\n",
    "    def handle_interaction(**kwargs):\n",
    "        if kwargs['type'] == 'click':\n",
    "            msg = '%s Selected coordinates: %s\\n' % (datetime.now(), kwargs['coordinates'])\n",
    "            out.value = add_log(msg)\n",
    "            circle = Circle()\n",
    "            circle.location = (kwargs['coordinates'][0], kwargs['coordinates'][1])\n",
    "            circle.radius = 100000\n",
    "            circle.color = \"red\"\n",
    "            circle.fill_color = \"red\"\n",
    "            m.add_layer(circle)\n",
    "            m.layers = [basemap_to_tiles(maps[basemap_selector.value]), circle]\n",
    "\n",
    "\n",
    "    m.on_interaction(handle_interaction)\n",
    "    \n",
    "    return AppLayout(center=m,\n",
    "                     header=header,\n",
    "                     left_sidebar=VBox([Label(\"Basemap:\"),\n",
    "                                        basemap_selector]),\n",
    "                     footer=out,\n",
    "                     pane_widths=['100px', 1, 1],\n",
    "                     pane_heights=['100px', 4, 1],\n",
    "                     height='600px',\n",
    "                     grid_gap=\"30px\")\n"
   ]
  },
  {
   "cell_type": "code",
   "execution_count": 2,
   "metadata": {},
   "outputs": [
    {
     "data": {
      "text/html": [
       "<script>\n",
       "code_show=true; \n",
       "function code_toggle() {\n",
       " if (code_show){\n",
       " $('div.input').hide();\n",
       " } else {\n",
       " $('div.input').show();\n",
       " }\n",
       " code_show = !code_show\n",
       "} \n",
       "$( document ).ready(code_toggle);\n",
       "</script>\n",
       "<form action=\"javascript:code_toggle()\"><input type=\"submit\" value=\"Click here to toggle on/off the raw code.\"></form>"
      ],
      "text/plain": [
       "<IPython.core.display.HTML object>"
      ]
     },
     "execution_count": 2,
     "metadata": {},
     "output_type": "execute_result"
    }
   ],
   "source": [
    "from IPython.display import HTML as displayHTML\n",
    "\n",
    "displayHTML('''<script>\n",
    "code_show=true; \n",
    "function code_toggle() {\n",
    " if (code_show){\n",
    " $('div.input').hide();\n",
    " } else {\n",
    " $('div.input').show();\n",
    " }\n",
    " code_show = !code_show\n",
    "} \n",
    "$( document ).ready(code_toggle);\n",
    "</script>\n",
    "<form action=\"javascript:code_toggle()\"><input type=\"submit\" value=\"Click here to toggle on/off the raw code.\"></form>''')"
   ]
  },
  {
   "cell_type": "code",
   "execution_count": 3,
   "metadata": {},
   "outputs": [
    {
     "data": {
      "application/vnd.jupyter.widget-view+json": {
       "model_id": "4733d58b6cf44d32a5cbb89052ad8153",
       "version_major": 2,
       "version_minor": 0
      },
      "text/plain": [
       "AppLayout(children=(HTML(value='<h1>Fictional World Weather</h1>', layout=Layout(grid_area='header', height='a…"
      ]
     },
     "metadata": {},
     "output_type": "display_data"
    }
   ],
   "source": [
    "generateMap()"
   ]
  }
 ],
 "metadata": {
  "kernelspec": {
   "display_name": "Python 3",
   "language": "python",
   "name": "python3"
  },
  "language_info": {
   "codemirror_mode": {
    "name": "ipython",
    "version": 3
   },
   "file_extension": ".py",
   "mimetype": "text/x-python",
   "name": "python",
   "nbconvert_exporter": "python",
   "pygments_lexer": "ipython3",
   "version": "3.8.1"
  }
 },
 "nbformat": 4,
 "nbformat_minor": 4
}
